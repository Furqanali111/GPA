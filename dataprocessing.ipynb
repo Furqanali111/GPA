{
 "cells": [
  {
   "cell_type": "code",
   "execution_count": 2,
   "metadata": {},
   "outputs": [],
   "source": [
    "import pandas as pd"
   ]
  },
  {
   "cell_type": "code",
   "execution_count": null,
   "metadata": {},
   "outputs": [],
   "source": [
    "file_path = \"./Final Data Set.xlsx\""
   ]
  },
  {
   "cell_type": "code",
   "execution_count": null,
   "metadata": {},
   "outputs": [],
   "source": [
    "df = pd.read_excel(file_path,header=1)"
   ]
  },
  {
   "cell_type": "code",
   "execution_count": null,
   "metadata": {},
   "outputs": [],
   "source": [
    "df.shape"
   ]
  },
  {
   "cell_type": "code",
   "execution_count": null,
   "metadata": {},
   "outputs": [],
   "source": [
    "df.info()"
   ]
  },
  {
   "cell_type": "code",
   "execution_count": null,
   "metadata": {},
   "outputs": [],
   "source": [
    "df.describe()"
   ]
  },
  {
   "cell_type": "markdown",
   "metadata": {},
   "source": [
    "## Converting Parental Income Column into Max and Min Income Column"
   ]
  },
  {
   "cell_type": "code",
   "execution_count": null,
   "metadata": {},
   "outputs": [],
   "source": [
    "df['Parental Income'] = df['Parental Income'].replace({'Between': ''})"
   ]
  },
  {
   "cell_type": "code",
   "execution_count": null,
   "metadata": {},
   "outputs": [],
   "source": [
    "for i ,value in enumerate(df['Parental Income']):\n",
    "    if value == 'Between 50K~1Lac':\n",
    "        df['Parental Income'][i] = '50000,100000'\n",
    "    elif value  == 'Between 30K~50K':\n",
    "        df['Parental Income'][i] = '30000,50000'\n",
    "    elif value == 'Between 1Lac~2Lac':\n",
    "        df['Parental Income'] = '100000,200000'\n",
    "    elif value == 'Between 2Lac~3Lac':\n",
    "        df['Parental Income'] = '200000,300000'\n",
    "    elif value == 'Between 30K~50K':\n",
    "        df['Parental Income'] = '30000,50000'\n",
    "    elif value == 'Above 3Lac':\n",
    "        df['Parental Income'] = '300000,1000000'\n",
    "    elif value == 'Below 30K':\n",
    "        df['Parental Income'] = '10000,30000'\n",
    "   "
   ]
  },
  {
   "cell_type": "code",
   "execution_count": null,
   "metadata": {},
   "outputs": [],
   "source": [
    "df[['Lowest Income', 'Maximum Income']] = df['Parental Income'].str.split(',', expand=True)"
   ]
  },
  {
   "cell_type": "code",
   "execution_count": null,
   "metadata": {},
   "outputs": [],
   "source": [
    "#Dropping the column as it is of no need\n",
    "df = df.drop('Parental Income',axis=1)"
   ]
  },
  {
   "cell_type": "code",
   "execution_count": null,
   "metadata": {},
   "outputs": [],
   "source": [
    "df[['Lowest Income', 'Maximum Income']] = df['Parental Income'].str.split(',', expand=True)"
   ]
  },
  {
   "cell_type": "markdown",
   "metadata": {},
   "source": [
    "## Converting the Over all Mobile Usage Column into Lowest and Maximum Mobibile time Usage"
   ]
  },
  {
   "cell_type": "code",
   "execution_count": null,
   "metadata": {},
   "outputs": [],
   "source": [
    "df['Maximum Mobile Usage'] = df['Maximum Mobile Usage'].str.replace('More than 8 hours', '8~10 hours')\n",
    "df['Maximum Mobile Usage'] = df['Maximum Mobile Usage'].str.replace('hours', '')"
   ]
  },
  {
   "cell_type": "code",
   "execution_count": null,
   "metadata": {},
   "outputs": [],
   "source": [
    "df[['Lowest Mobile Usage', 'Maximum Mobile Usage']] = df['My overall mobile usage (daily) for non-academic purpose is limited to:'].str.split('~', expand=True)"
   ]
  },
  {
   "cell_type": "code",
   "execution_count": null,
   "metadata": {},
   "outputs": [],
   "source": [
    "df['Maximum Mobile Usage'] = df['Maximum Mobile Usage'].apply(lambda x: str(x) + ' hours')\n",
    "df['Lowest Mobile Usage'] = df['Lowest Mobile Usage'].apply(lambda x: str(x) + ' hours')"
   ]
  },
  {
   "cell_type": "code",
   "execution_count": null,
   "metadata": {},
   "outputs": [],
   "source": [
    "df['Lowest Mobile Usage']"
   ]
  },
  {
   "cell_type": "code",
   "execution_count": null,
   "metadata": {},
   "outputs": [],
   "source": [
    "# dropping the column as it is of no use \n",
    "\n",
    "df = df.drop('My overall mobile usage (daily) for non-academic purpose is limited to:',axis=1)"
   ]
  },
  {
   "cell_type": "markdown",
   "metadata": {},
   "source": [
    "## Replacing the Above 6 value of datapoint into 7 to make our data of the same point."
   ]
  },
  {
   "cell_type": "code",
   "execution_count": null,
   "metadata": {},
   "outputs": [],
   "source": [
    "\n",
    "df['Number of immediate family members'] = df['Number of immediate family members'].apply(lambda x: int(x) if str(x).isdigit() else 7)\n"
   ]
  },
  {
   "cell_type": "markdown",
   "metadata": {},
   "source": [
    "## Replacing the 'Language does not effect my performance' or 'Mix of both English and Urdu' with both"
   ]
  },
  {
   "cell_type": "code",
   "execution_count": null,
   "metadata": {},
   "outputs": [],
   "source": [
    "\n",
    "df['I understand the lecture more clearly if delivered in:'] = df['I understand the lecture more clearly if delivered in:'].apply(lambda x: 'both' if x == 'Language does not effect my performance' or x == 'Mix of both English and Urdu' else x )\n"
   ]
  },
  {
   "cell_type": "markdown",
   "metadata": {},
   "source": [
    "## Replacing the datapoint with both whiteboard and power point with 'both' and doesnt not effect my performance with 'none'"
   ]
  },
  {
   "cell_type": "code",
   "execution_count": null,
   "metadata": {},
   "outputs": [],
   "source": [
    "\n",
    "df['I understand the lecture more clearly if delivered on:'] = df['I understand the lecture more clearly if delivered on:'].apply(lambda x: 'both' if x == 'Mix of both whiteboard and power point' else x )\n",
    "df['I understand the lecture more clearly if delivered on:'] = df['I understand the lecture more clearly if delivered on:'].apply(lambda x: 'none' if x == 'Mode of lecture delivery does not effect my performance' else x )\n"
   ]
  },
  {
   "cell_type": "markdown",
   "metadata": {},
   "source": [
    "## Replacing the values of the datapoint to make it valuabel for us"
   ]
  },
  {
   "cell_type": "code",
   "execution_count": null,
   "metadata": {},
   "outputs": [],
   "source": [
    "\n",
    "df['I understand the lecture more clearly if my sitting place is in:'] = df['I understand the lecture more clearly if my sitting place is in:'].apply(lambda x: 'front' if x == 'First row' else x )\n",
    "df['I understand the lecture more clearly if my sitting place is in:'] = df['I understand the lecture more clearly if my sitting place is in:'].apply(lambda x: 'back' if x == 'Last row' else x )\n",
    "df['I understand the lecture more clearly if my sitting place is in:'] = df['I understand the lecture more clearly if my sitting place is in:'].apply(lambda x: 'middle' if x == 'Middle row' else x )\n",
    "df['I understand the lecture more clearly if my sitting place is in:'] = df['I understand the lecture more clearly if my sitting place is in:'].apply(lambda x: 'none' if x == 'Sitting place does not effect my performance' else x )\n"
   ]
  },
  {
   "cell_type": "markdown",
   "metadata": {},
   "source": [
    "## Replacing the values of the datapoint of hours "
   ]
  },
  {
   "cell_type": "code",
   "execution_count": null,
   "metadata": {},
   "outputs": [],
   "source": [
    "\n",
    "df['I understand the lecture more clearly if the duration is:'] = df['I understand the lecture more clearly if the duration is:'].apply(lambda x: 'none' if x == 'Duration of lecture does not effect my performance' else x)\n"
   ]
  },
  {
   "cell_type": "markdown",
   "metadata": {},
   "source": [
    "## Replaceing the value of tha datapoint"
   ]
  },
  {
   "cell_type": "code",
   "execution_count": null,
   "metadata": {},
   "outputs": [],
   "source": [
    "\n",
    "df['I understand the lecture more clearly if delivered by:'] = df['I understand the lecture more clearly if delivered by:'].apply(lambda x: 'none' if x == 'Instructor gender does not effect my performance' else x)     \n"
   ]
  },
  {
   "cell_type": "markdown",
   "metadata": {},
   "source": [
    "## Replacing the value sof datapoint in \"I understand the lecture more clearly if the number of students in classroom are:\""
   ]
  },
  {
   "cell_type": "code",
   "execution_count": null,
   "metadata": {},
   "outputs": [],
   "source": [
    "\n",
    "df['I understand the lecture more clearly if the number of students in classroom are:'] = df['I understand the lecture more clearly if the number of students in classroom are:'].str.replace('Not more than ', '')\n",
    "df['I understand the lecture more clearly if the number of students in classroom are:'] = df['I understand the lecture more clearly if the number of students in classroom are:'].apply(lambda x: 'none' if x == 'Number of students does not effect my performance' else x)     \n"
   ]
  },
  {
   "cell_type": "markdown",
   "metadata": {},
   "source": [
    "## Converting the Values for more diverse apporach"
   ]
  },
  {
   "cell_type": "code",
   "execution_count": null,
   "metadata": {},
   "outputs": [],
   "source": [
    "\n",
    "    \n",
    "df['I understand the lecture more clearly if:'] = df['I understand the lecture more clearly if:'].apply(lambda x: 'Notes' if x == 'I take notes during lecture' else x)  \n",
    "df['I understand the lecture more clearly if:'] = df['I understand the lecture more clearly if:'].apply(lambda x: 'Concepts' if x == 'Only understand the concepts without noting them down' else x)  \n",
    "df['I understand the lecture more clearly if:'] = df['I understand the lecture more clearly if:'].apply(lambda x: 'No Notes' if x == 'Notes taking has no relation with my academic performance' else x)  \n",
    "    \n",
    "    \n",
    "    "
   ]
  },
  {
   "cell_type": "code",
   "execution_count": null,
   "metadata": {},
   "outputs": [],
   "source": [
    "for i in df['I understand the lecture more clearly if:']:\n",
    "    print(i)"
   ]
  },
  {
   "cell_type": "markdown",
   "metadata": {},
   "source": [
    "## Finding the Average of CGPA and Replacing it with Missing Datapoints"
   ]
  },
  {
   "cell_type": "code",
   "execution_count": null,
   "metadata": {},
   "outputs": [],
   "source": [
    "lst = []\n",
    "for i in df['SGPA in BS First semester']:\n",
    "    if str(i) == 'nan':\n",
    "        continue\n",
    "    else:\n",
    "        lst.append(i)"
   ]
  },
  {
   "cell_type": "code",
   "execution_count": null,
   "metadata": {},
   "outputs": [],
   "source": [
    "lst"
   ]
  },
  {
   "cell_type": "code",
   "execution_count": null,
   "metadata": {},
   "outputs": [],
   "source": [
    "# Calculate the average\n",
    "average = np.mean(lst)\n",
    "\n",
    "# Print the result\n",
    "print(\"Average:\", average)"
   ]
  },
  {
   "cell_type": "code",
   "execution_count": null,
   "metadata": {},
   "outputs": [],
   "source": [
    "df['SGPA in BS First semester'] = df['SGPA in BS First semester'].apply(lambda x: average if str(x) == 'nan' else x)"
   ]
  },
  {
   "cell_type": "markdown",
   "metadata": {},
   "source": [
    "## Features Preprocessing"
   ]
  },
  {
   "cell_type": "code",
   "execution_count": 7,
   "metadata": {},
   "outputs": [],
   "source": [
    "\n",
    "from sklearn.impute import SimpleImputer\n",
    "from sklearn.preprocessing import LabelEncoder\n"
   ]
  },
  {
   "cell_type": "code",
   "execution_count": 8,
   "metadata": {},
   "outputs": [],
   "source": [
    "url = './modified_csv.csv'\n",
    "data = pd.read_csv(url)\n",
    "\n",
    "# Data Preprocessing\n",
    "# Assuming \"Lowest Income\", \"Maximum Income\", \"Lowest Mobile Usage\", and \"Maximum Mobile Usage\" are relevant features\n",
    "numeric_features = data.select_dtypes(include=['float64']).copy()\n",
    "categorical_features = data.select_dtypes(include=['object']).copy()\n",
    "\n",
    "# Handle missing values for numeric features\n",
    "numeric_imputer = SimpleImputer(strategy=\"mean\")\n",
    "numeric_features = pd.DataFrame(numeric_imputer.fit_transform(numeric_features), columns=numeric_features.columns)\n",
    "\n",
    "# Convert categorical variables into numerical format\n",
    "label_encoder = LabelEncoder()\n",
    "for col in categorical_features.columns:\n",
    "    categorical_features[col] = label_encoder.fit_transform(categorical_features[col])\n",
    "\n",
    "# Concatenate numeric and categorical features\n",
    "features = pd.concat([numeric_features, categorical_features], axis=1)\n",
    "\n"
   ]
  },
  {
   "cell_type": "markdown",
   "metadata": {},
   "source": [
    "## Saving the Files"
   ]
  },
  {
   "cell_type": "code",
   "execution_count": null,
   "metadata": {},
   "outputs": [],
   "source": [
    "# Save the modified DataFrame back to the Excel file\n",
    "df.to_excel('updated_dataset.xlsx', index=False)"
   ]
  },
  {
   "cell_type": "code",
   "execution_count": 10,
   "metadata": {},
   "outputs": [],
   "source": [
    "data.to_csv('modified_csv.csv', index=False)"
   ]
  },
  {
   "cell_type": "code",
   "execution_count": null,
   "metadata": {},
   "outputs": [],
   "source": []
  }
 ],
 "metadata": {
  "kernelspec": {
   "display_name": "Python 3 (ipykernel)",
   "language": "python",
   "name": "python3"
  },
  "language_info": {
   "codemirror_mode": {
    "name": "ipython",
    "version": 3
   },
   "file_extension": ".py",
   "mimetype": "text/x-python",
   "name": "python",
   "nbconvert_exporter": "python",
   "pygments_lexer": "ipython3",
   "version": "3.11.5"
  }
 },
 "nbformat": 4,
 "nbformat_minor": 2
}
